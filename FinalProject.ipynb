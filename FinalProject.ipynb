{
 "cells": [
  {
   "cell_type": "markdown",
   "metadata": {},
   "source": [
    "# COGS 108 - Final Project "
   ]
  },
  {
   "cell_type": "markdown",
   "metadata": {},
   "source": [
    "# Overview"
   ]
  },
  {
   "cell_type": "markdown",
   "metadata": {},
   "source": [
    "*Fill in your overview here*"
   ]
  },
  {
   "cell_type": "markdown",
   "metadata": {},
   "source": [
    "# Names\n",
    "\n",
    "- Oprah Winfrey\n",
    "- Miley Cyrus\n",
    "- Sam Smith\n",
    "- J. Cole"
   ]
  },
  {
   "cell_type": "markdown",
   "metadata": {},
   "source": [
    "# Group Members IDs\n",
    "\n",
    "- A14711559 Jialiang Ji, jij106@ucsd.edu\n",
    "- A########\n",
    "- A########\n",
    "- A########"
   ]
  },
  {
   "cell_type": "markdown",
   "metadata": {},
   "source": [
    "# Research Question"
   ]
  },
  {
   "cell_type": "markdown",
   "metadata": {},
   "source": [
    "*Fill in your research question here*"
   ]
  },
  {
   "cell_type": "markdown",
   "metadata": {},
   "source": [
    "## Background and Prior Work"
   ]
  },
  {
   "cell_type": "markdown",
   "metadata": {},
   "source": [
    "*Fill in your background and prior work here* \n",
    "\n",
    "References (include links):\n",
    "- 1)\n",
    "- 2)"
   ]
  },
  {
   "cell_type": "markdown",
   "metadata": {},
   "source": [
    "# Hypothesis\n"
   ]
  },
  {
   "cell_type": "markdown",
   "metadata": {},
   "source": [
    "*Fill in your hypotheses here*"
   ]
  },
  {
   "cell_type": "markdown",
   "metadata": {},
   "source": [
    "# Dataset(s)"
   ]
  },
  {
   "cell_type": "markdown",
   "metadata": {},
   "source": [
    "*Fill in your dataset information here*\n",
    "\n",
    "(Copy this information for each dataset)\n",
    "- Dataset Name:\n",
    "- Link to the dataset:\n",
    "- Number of observations:\n",
    "\n",
    "1-2 sentences describing each dataset. \n",
    "\n",
    "If you plan to use multiple datasets, add 1-2 sentences about how you plan to combine these datasets."
   ]
  },
  {
   "cell_type": "markdown",
   "metadata": {},
   "source": [
    "# Setup"
   ]
  },
  {
   "cell_type": "code",
   "execution_count": 2,
   "metadata": {},
   "outputs": [],
   "source": [
    "## YOUR CODE HERE\n",
    "import numpy as np\n",
    "import pandas as pd\n",
    "import matplotlib.pyplot as plt\n",
    "from matplotlib.pyplot import figure\n",
    "import json\n",
    "import datetime\n",
    "\n",
    "# Significance Test\n",
    "import patsy\n",
    "import statsmodels.api as sm\n",
    "import scipy.stats as stats\n",
    "from scipy.stats import ttest_ind, chisquare, normaltest\n",
    "\n",
    "# NLP\n",
    "import re\n",
    "from nltk.corpus import stopwords"
   ]
  },
  {
   "cell_type": "markdown",
   "metadata": {},
   "source": [
    "# Data Cleaning"
   ]
  },
  {
   "cell_type": "markdown",
   "metadata": {},
   "source": [
    "Describe your data cleaning steps here."
   ]
  },
  {
   "cell_type": "code",
   "execution_count": 4,
   "metadata": {},
   "outputs": [
    {
     "data": {
      "text/html": [
       "<div>\n",
       "<style scoped>\n",
       "    .dataframe tbody tr th:only-of-type {\n",
       "        vertical-align: middle;\n",
       "    }\n",
       "\n",
       "    .dataframe tbody tr th {\n",
       "        vertical-align: top;\n",
       "    }\n",
       "\n",
       "    .dataframe thead th {\n",
       "        text-align: right;\n",
       "    }\n",
       "</style>\n",
       "<table border=\"1\" class=\"dataframe\">\n",
       "  <thead>\n",
       "    <tr style=\"text-align: right;\">\n",
       "      <th></th>\n",
       "      <th>countyState</th>\n",
       "      <th>GEOID</th>\n",
       "      <th>lon</th>\n",
       "      <th>lat</th>\n",
       "      <th>P_total</th>\n",
       "      <th>P_white</th>\n",
       "      <th>P_black</th>\n",
       "      <th>P_asian</th>\n",
       "      <th>P_native</th>\n",
       "      <th>P_hawaiian</th>\n",
       "      <th>...</th>\n",
       "      <th>UnderAge5inPovertyCountUB90%</th>\n",
       "      <th>90%ConfidenceInterval(UnderAge5inPovertyCount)</th>\n",
       "      <th>UnderAge5inPovertyPercent</th>\n",
       "      <th>UnderAge5inPovertyPercentLB90%</th>\n",
       "      <th>UnderAge5inPovertyPercentUB90%</th>\n",
       "      <th>90%ConfidenceInterval(UnderAge5inPovertyPercent)</th>\n",
       "      <th>MedianHouseholdIncomeinDollars</th>\n",
       "      <th>MedianHouseholdIncomeinDollarsLB90%</th>\n",
       "      <th>MedianHouseholdIncomeinDollarsUB90%</th>\n",
       "      <th>90%ConfidenceInterval(MedianHouseholdIncomeinDollars)</th>\n",
       "    </tr>\n",
       "  </thead>\n",
       "  <tbody>\n",
       "    <tr>\n",
       "      <th>0</th>\n",
       "      <td>Fairbanks North Star Borough (AK)</td>\n",
       "      <td>05000US02090</td>\n",
       "      <td>-146.599867</td>\n",
       "      <td>64.690832</td>\n",
       "      <td>100605</td>\n",
       "      <td>75501.0</td>\n",
       "      <td>4385.0</td>\n",
       "      <td>3875.0</td>\n",
       "      <td>7427.0</td>\n",
       "      <td>503.0</td>\n",
       "      <td>...</td>\n",
       "      <td>NaN</td>\n",
       "      <td>NaN</td>\n",
       "      <td>NaN</td>\n",
       "      <td>NaN</td>\n",
       "      <td>NaN</td>\n",
       "      <td>NaN</td>\n",
       "      <td>$74,241</td>\n",
       "      <td>$68,171</td>\n",
       "      <td>$80,311</td>\n",
       "      <td>$68,171 to $80,311</td>\n",
       "    </tr>\n",
       "    <tr>\n",
       "      <th>1</th>\n",
       "      <td>Matanuska-Susitna Borough (AK)</td>\n",
       "      <td>05000US02170</td>\n",
       "      <td>-149.407974</td>\n",
       "      <td>62.182173</td>\n",
       "      <td>104365</td>\n",
       "      <td>86314.0</td>\n",
       "      <td>1019.0</td>\n",
       "      <td>1083.0</td>\n",
       "      <td>5455.0</td>\n",
       "      <td>141.0</td>\n",
       "      <td>...</td>\n",
       "      <td>NaN</td>\n",
       "      <td>NaN</td>\n",
       "      <td>NaN</td>\n",
       "      <td>NaN</td>\n",
       "      <td>NaN</td>\n",
       "      <td>NaN</td>\n",
       "      <td>$72,296</td>\n",
       "      <td>$67,381</td>\n",
       "      <td>$77,211</td>\n",
       "      <td>$67,381 to $77,211</td>\n",
       "    </tr>\n",
       "    <tr>\n",
       "      <th>2</th>\n",
       "      <td>Baldwin County (AL)</td>\n",
       "      <td>05000US01003</td>\n",
       "      <td>-87.746067</td>\n",
       "      <td>30.659218</td>\n",
       "      <td>208563</td>\n",
       "      <td>180484.0</td>\n",
       "      <td>18821.0</td>\n",
       "      <td>914.0</td>\n",
       "      <td>1383.0</td>\n",
       "      <td>0.0</td>\n",
       "      <td>...</td>\n",
       "      <td>NaN</td>\n",
       "      <td>NaN</td>\n",
       "      <td>NaN</td>\n",
       "      <td>NaN</td>\n",
       "      <td>NaN</td>\n",
       "      <td>NaN</td>\n",
       "      <td>$56,607</td>\n",
       "      <td>$52,439</td>\n",
       "      <td>$60,775</td>\n",
       "      <td>$52,439 to $60,775</td>\n",
       "    </tr>\n",
       "    <tr>\n",
       "      <th>3</th>\n",
       "      <td>Calhoun County (AL)</td>\n",
       "      <td>05000US01015</td>\n",
       "      <td>-85.822513</td>\n",
       "      <td>33.771706</td>\n",
       "      <td>114611</td>\n",
       "      <td>NaN</td>\n",
       "      <td>NaN</td>\n",
       "      <td>NaN</td>\n",
       "      <td>NaN</td>\n",
       "      <td>NaN</td>\n",
       "      <td>...</td>\n",
       "      <td>NaN</td>\n",
       "      <td>NaN</td>\n",
       "      <td>NaN</td>\n",
       "      <td>NaN</td>\n",
       "      <td>NaN</td>\n",
       "      <td>NaN</td>\n",
       "      <td>$45,937</td>\n",
       "      <td>$43,419</td>\n",
       "      <td>$48,455</td>\n",
       "      <td>$43,419 to $48,455</td>\n",
       "    </tr>\n",
       "    <tr>\n",
       "      <th>4</th>\n",
       "      <td>Cullman County (AL)</td>\n",
       "      <td>05000US01043</td>\n",
       "      <td>-86.869267</td>\n",
       "      <td>34.131923</td>\n",
       "      <td>82471</td>\n",
       "      <td>NaN</td>\n",
       "      <td>NaN</td>\n",
       "      <td>NaN</td>\n",
       "      <td>NaN</td>\n",
       "      <td>NaN</td>\n",
       "      <td>...</td>\n",
       "      <td>NaN</td>\n",
       "      <td>NaN</td>\n",
       "      <td>NaN</td>\n",
       "      <td>NaN</td>\n",
       "      <td>NaN</td>\n",
       "      <td>NaN</td>\n",
       "      <td>$45,925</td>\n",
       "      <td>$41,985</td>\n",
       "      <td>$49,865</td>\n",
       "      <td>$41,985 to $49,865</td>\n",
       "    </tr>\n",
       "  </tbody>\n",
       "</table>\n",
       "<p>5 rows × 66 columns</p>\n",
       "</div>"
      ],
      "text/plain": [
       "                         countyState         GEOID         lon        lat  \\\n",
       "0  Fairbanks North Star Borough (AK)  05000US02090 -146.599867  64.690832   \n",
       "1     Matanuska-Susitna Borough (AK)  05000US02170 -149.407974  62.182173   \n",
       "2                Baldwin County (AL)  05000US01003  -87.746067  30.659218   \n",
       "3                Calhoun County (AL)  05000US01015  -85.822513  33.771706   \n",
       "4                Cullman County (AL)  05000US01043  -86.869267  34.131923   \n",
       "\n",
       "   P_total   P_white  P_black  P_asian  P_native  P_hawaiian  \\\n",
       "0   100605   75501.0   4385.0   3875.0    7427.0       503.0   \n",
       "1   104365   86314.0   1019.0   1083.0    5455.0       141.0   \n",
       "2   208563  180484.0  18821.0    914.0    1383.0         0.0   \n",
       "3   114611       NaN      NaN      NaN       NaN         NaN   \n",
       "4    82471       NaN      NaN      NaN       NaN         NaN   \n",
       "\n",
       "                           ...                            \\\n",
       "0                          ...                             \n",
       "1                          ...                             \n",
       "2                          ...                             \n",
       "3                          ...                             \n",
       "4                          ...                             \n",
       "\n",
       "   UnderAge5inPovertyCountUB90%  \\\n",
       "0                           NaN   \n",
       "1                           NaN   \n",
       "2                           NaN   \n",
       "3                           NaN   \n",
       "4                           NaN   \n",
       "\n",
       "   90%ConfidenceInterval(UnderAge5inPovertyCount)  UnderAge5inPovertyPercent  \\\n",
       "0                                             NaN                        NaN   \n",
       "1                                             NaN                        NaN   \n",
       "2                                             NaN                        NaN   \n",
       "3                                             NaN                        NaN   \n",
       "4                                             NaN                        NaN   \n",
       "\n",
       "   UnderAge5inPovertyPercentLB90%  UnderAge5inPovertyPercentUB90%  \\\n",
       "0                             NaN                             NaN   \n",
       "1                             NaN                             NaN   \n",
       "2                             NaN                             NaN   \n",
       "3                             NaN                             NaN   \n",
       "4                             NaN                             NaN   \n",
       "\n",
       "   90%ConfidenceInterval(UnderAge5inPovertyPercent)  \\\n",
       "0                                               NaN   \n",
       "1                                               NaN   \n",
       "2                                               NaN   \n",
       "3                                               NaN   \n",
       "4                                               NaN   \n",
       "\n",
       "   MedianHouseholdIncomeinDollars  MedianHouseholdIncomeinDollarsLB90%  \\\n",
       "0                         $74,241                              $68,171   \n",
       "1                         $72,296                              $67,381   \n",
       "2                         $56,607                              $52,439   \n",
       "3                         $45,937                              $43,419   \n",
       "4                         $45,925                              $41,985   \n",
       "\n",
       "   MedianHouseholdIncomeinDollarsUB90%  \\\n",
       "0                              $80,311   \n",
       "1                              $77,211   \n",
       "2                              $60,775   \n",
       "3                              $48,455   \n",
       "4                              $49,865   \n",
       "\n",
       "   90%ConfidenceInterval(MedianHouseholdIncomeinDollars)  \n",
       "0                                 $68,171 to $80,311      \n",
       "1                                 $67,381 to $77,211      \n",
       "2                                 $52,439 to $60,775      \n",
       "3                                 $43,419 to $48,455      \n",
       "4                                 $41,985 to $49,865      \n",
       "\n",
       "[5 rows x 66 columns]"
      ]
     },
     "execution_count": 4,
     "metadata": {},
     "output_type": "execute_result"
    }
   ],
   "source": [
    "## YOUR CODE HERE\n",
    "## FEEL FREE TO ADD MULTIPLE CELLS PER SECTION\n",
    "df = pd.read_csv(\"./new.csv\")\n",
    "df.head()"
   ]
  },
  {
   "cell_type": "markdown",
   "metadata": {},
   "source": [
    "# Data Analysis & Results"
   ]
  },
  {
   "cell_type": "markdown",
   "metadata": {},
   "source": [
    "Include cells that describe the steps in your data analysis."
   ]
  },
  {
   "cell_type": "code",
   "execution_count": 5,
   "metadata": {},
   "outputs": [],
   "source": [
    "## YOUR CODE HERE\n",
    "## FEEL FREE TO ADD MULTIPLE CELLS PER SECTION"
   ]
  },
  {
   "cell_type": "markdown",
   "metadata": {},
   "source": [
    "# Ethics & Privacy"
   ]
  },
  {
   "cell_type": "markdown",
   "metadata": {},
   "source": [
    "*Fill in your ethics & privacy discussion here*"
   ]
  },
  {
   "cell_type": "markdown",
   "metadata": {},
   "source": [
    "# Conclusion & Discussion"
   ]
  },
  {
   "cell_type": "markdown",
   "metadata": {},
   "source": [
    "*Fill in your discussion information here*"
   ]
  }
 ],
 "metadata": {
  "kernelspec": {
   "display_name": "Python 3",
   "language": "python",
   "name": "python3"
  },
  "language_info": {
   "codemirror_mode": {
    "name": "ipython",
    "version": 3
   },
   "file_extension": ".py",
   "mimetype": "text/x-python",
   "name": "python",
   "nbconvert_exporter": "python",
   "pygments_lexer": "ipython3",
   "version": "3.7.0"
  }
 },
 "nbformat": 4,
 "nbformat_minor": 2
}
