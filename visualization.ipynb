{
 "cells": [
  {
   "cell_type": "code",
   "execution_count": 1,
   "metadata": {},
   "outputs": [],
   "source": [
    "# Display plots directly in the notebook instead of in a new window\n",
    "%matplotlib inline\n",
    "\n",
    "## YOUR CODE HERE\n",
    "import numpy as np\n",
    "import pandas as pd\n",
    "import matplotlib.pyplot as plt\n",
    "from matplotlib.pyplot import figure\n",
    "import datetime\n",
    "\n",
    "# Significance Test\n",
    "import patsy\n",
    "import statsmodels.api as sm\n",
    "import scipy.stats as stats\n",
    "from scipy.stats import ttest_ind, chisquare, normaltest\n",
    "\n",
    "# NLP\n",
    "import re\n",
    "from nltk.corpus import stopwords"
   ]
  },
  {
   "cell_type": "code",
   "execution_count": 2,
   "metadata": {},
   "outputs": [
    {
     "ename": "NameError",
     "evalue": "name 'sns' is not defined",
     "output_type": "error",
     "traceback": [
      "\u001b[1;31m---------------------------------------------------------------------------\u001b[0m",
      "\u001b[1;31mNameError\u001b[0m                                 Traceback (most recent call last)",
      "\u001b[1;32m<ipython-input-2-ec3373818281>\u001b[0m in \u001b[0;36m<module>\u001b[1;34m()\u001b[0m\n\u001b[0;32m      1\u001b[0m \u001b[1;31m# Configure libraries\u001b[0m\u001b[1;33m\u001b[0m\u001b[1;33m\u001b[0m\u001b[0m\n\u001b[0;32m      2\u001b[0m \u001b[1;31m# The seaborn library makes plots look nicer\u001b[0m\u001b[1;33m\u001b[0m\u001b[1;33m\u001b[0m\u001b[0m\n\u001b[1;32m----> 3\u001b[1;33m \u001b[0msns\u001b[0m\u001b[1;33m.\u001b[0m\u001b[0mset\u001b[0m\u001b[1;33m(\u001b[0m\u001b[1;33m)\u001b[0m\u001b[1;33m\u001b[0m\u001b[0m\n\u001b[0m\u001b[0;32m      4\u001b[0m \u001b[0msns\u001b[0m\u001b[1;33m.\u001b[0m\u001b[0mset_context\u001b[0m\u001b[1;33m(\u001b[0m\u001b[1;34m'talk'\u001b[0m\u001b[1;33m)\u001b[0m\u001b[1;33m\u001b[0m\u001b[0m\n\u001b[0;32m      5\u001b[0m \u001b[1;33m\u001b[0m\u001b[0m\n",
      "\u001b[1;31mNameError\u001b[0m: name 'sns' is not defined"
     ]
    }
   ],
   "source": [
    "# Configure libraries\n",
    "# The seaborn library makes plots look nicer\n",
    "sns.set()\n",
    "sns.set_context('talk')\n",
    "\n",
    "# Don't display too many rows/cols of DataFrames\n",
    "pd.options.display.max_rows = 7\n",
    "pd.options.display.max_columns = 8\n",
    "\n",
    "# Round decimals when displaying DataFrames\n"
   ]
  },
  {
   "cell_type": "code",
   "execution_count": null,
   "metadata": {},
   "outputs": [],
   "source": [
    "df_new = pd.read_csv(\"new.csv\")\n",
    "#df_new = df_new.dropna(subset=['P_white','P_black','P_asian','P_native','P_hawaiian','P_others'])\n",
    "df_new = df_new.drop(columns=['UnderAge5inPovertyCountLB90%','UnderAge5inPovertyCount','UnderAge5SAIPEPovertyUniverse','90%ConfidenceInterval(UnderAge5inPovertyPercent)','UnderAge5inPovertyPercentUB90%','UnderAge5inPovertyPercentLB90%','UnderAge5inPovertyPercent','UnderAge5inPovertyCountUB90%','90%ConfidenceInterval(UnderAge5inPovertyCount)'])\n",
    "df_new = df_new.drop(columns=['StateCountyName', 'CountyID', 'State', 'Year', 'P_below_poverty','P_bachelor_and_above','P_some_college','P_high_school_equivalent','P_some_high_school','P_below_middle_school','lat','lon','GEOID'])\n",
    "df_new = df_new.drop(columns=['P_white','P_black','P_asian','P_native','P_hawaiian','P_others'])\n",
    "df_new = df_new.dropna()\n",
    "df_new\n",
    "#plt.plot(df_new['percent_no_internet'],df_new['P_below_poverty'],'.')"
   ]
  },
  {
   "cell_type": "code",
   "execution_count": null,
   "metadata": {},
   "outputs": [],
   "source": [
    "plt.plot(df_new['percent_no_internet'],df_new['AllAgesinPovertyPercent'],'.')\n",
    "np.corrcoef(df_new['percent_no_internet'], df_new['AllAgesinPovertyPercent'])\n",
    "#plt.scatter(df_new['percent_no_internet'], df_new['AllAgesinPovertyPercent'])"
   ]
  },
  {
   "cell_type": "code",
   "execution_count": null,
   "metadata": {},
   "outputs": [],
   "source": [
    "plt.plot(df_new['percent_no_internet'],df_new['AllAgesinPovertyPercentLB90%'],'.')\n",
    "np.corrcoef(df_new['percent_no_internet'],df_new['AllAgesinPovertyPercentLB90%'])"
   ]
  },
  {
   "cell_type": "code",
   "execution_count": null,
   "metadata": {},
   "outputs": [],
   "source": [
    "plt.plot(df_new['percent_no_internet'],df_new['AllAgesinPovertyPercentUB90%'],'.')\n",
    "np.corrcoef(df_new['percent_no_internet'],df_new['AllAgesinPovertyPercentUB90%'])"
   ]
  },
  {
   "cell_type": "code",
   "execution_count": null,
   "metadata": {},
   "outputs": [],
   "source": [
    "plt.plot(df_new['percent_no_internet'],df_new['AllAgesinPovertyPercentUB90%'],'.')\n",
    "np.corrcoef(df_new['percent_no_internet'],df_new['AllAgesinPovertyPercentUB90%'])"
   ]
  }
 ],
 "metadata": {
  "kernelspec": {
   "display_name": "Python 3",
   "language": "python",
   "name": "python3"
  },
  "language_info": {
   "codemirror_mode": {
    "name": "ipython",
    "version": 3
   },
   "file_extension": ".py",
   "mimetype": "text/x-python",
   "name": "python",
   "nbconvert_exporter": "python",
   "pygments_lexer": "ipython3",
   "version": "3.7.0"
  }
 },
 "nbformat": 4,
 "nbformat_minor": 2
}
